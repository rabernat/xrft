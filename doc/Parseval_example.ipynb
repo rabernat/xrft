{
 "cells": [
  {
   "cell_type": "code",
   "execution_count": 1,
   "metadata": {},
   "outputs": [],
   "source": [
    "import numpy as np\n",
    "import numpy.testing as npt\n",
    "import xarray as xr\n",
    "import xrft\n",
    "import numpy.fft as npft\n",
    "import dask.array as dsar\n",
    "import matplotlib.pyplot as plt\n",
    "%matplotlib inline"
   ]
  },
  {
   "cell_type": "markdown",
   "metadata": {},
   "source": [
    "# Here, we show that xrft automatically satisfies the Parseval's identity\n",
    "First, we demostrate it for one-dimensional data:\n",
    "\n",
    "$$\\sum_x (da)^2 \\Delta x = \\sum_k \\mathcal{F}(da)\\mathcal{F}(da)^* \\Delta k$$"
   ]
  },
  {
   "cell_type": "code",
   "execution_count": 39,
   "metadata": {},
   "outputs": [],
   "source": [
    "Nx = 40\n",
    "dx = np.random.rand()\n",
    "da = xr.DataArray(\n",
    "        np.random.rand(Nx) + 1j * np.random.rand(Nx),\n",
    "        dims=\"x\",\n",
    "        coords={\"x\": dx * (np.arange(-Nx // 2, -Nx // 2 + Nx)\n",
    "                           + np.random.randint(-Nx // 2, Nx // 2)\n",
    "                          )\n",
    "               },\n",
    "                 )\n",
    "FT = xrft.dft(da, dim=\"x\", true_phase=True, true_amplitude=True)\n",
    "npt.assert_almost_equal(\n",
    "        (np.abs(da) ** 2).sum() * dx, (np.abs(FT) ** 2).sum() * FT[\"freq_x\"].spacing\n",
    "                       )\n",
    "\n",
    "ps = xrft.power_spectrum(da, dim=\"x\")\n",
    "npt.assert_almost_equal(\n",
    "        ps.sum(),\n",
    "        (np.abs(da) ** 2).sum() * dx\n",
    "                       )"
   ]
  },
  {
   "cell_type": "markdown",
   "metadata": {},
   "source": [
    "Now we demostrate Parseval's theorem for two-dimensional data:\n",
    "\n",
    "$$\\sum_x\\sum_y (da)^2 \\Delta x \\Delta y = \\sum_k \\sum_l \\mathcal{F}(da)\\mathcal{F}(da)^* \\Delta k \\Delta l$$"
   ]
  },
  {
   "cell_type": "code",
   "execution_count": 33,
   "metadata": {},
   "outputs": [],
   "source": [
    "Ny = 60\n",
    "dx, dy = (np.random.rand(), np.random.rand())\n",
    "da2 = xr.DataArray(\n",
    "        np.random.rand(Nx, Ny) + 1j * np.random.rand(Nx, Ny),\n",
    "        dims=[\"x\", \"y\"],\n",
    "        coords={\"x\": dx\n",
    "                * (\n",
    "                    np.arange(-Nx // 2, -Nx // 2 + Nx)\n",
    "                    + np.random.randint(-Nx // 2, Nx // 2)\n",
    "                ),\n",
    "                \"y\": dy\n",
    "                * (\n",
    "                    np.arange(-Ny // 2, -Ny // 2 + Ny)\n",
    "                    + np.random.randint(-Ny // 2, Ny // 2)\n",
    "                ),\n",
    "              },\n",
    "                  )\n",
    "FT2 = xrft.dft(da2, dim=[\"x\", \"y\"], true_phase=True, true_amplitude=True)\n",
    "npt.assert_almost_equal(\n",
    "        (np.abs(FT2) ** 2).sum() * FT2[\"freq_x\"].spacing * FT2[\"freq_y\"].spacing,\n",
    "        (np.abs(da2) ** 2).sum() * dx * dy,\n",
    "                       )\n",
    "\n",
    "ps2 = xrft.power_spectrum(da2, dim=[\"x\", \"y\"])\n",
    "npt.assert_almost_equal(\n",
    "        ps2.sum(),\n",
    "        (np.abs(da2) ** 2).sum() * dx * dy\n",
    "                       )\n",
    "\n",
    "ps2 = xrft.power_spectrum(da2, dim=[\"x\", \"y\"], scaling='spectrum')\n",
    "npt.assert_almost_equal(\n",
    "        ps2.sum() / (ps2.freq_x.spacing * ps2.freq_y.spacing),\n",
    "        (np.abs(da2) ** 2).sum() * dx * dy,\n",
    "                       )"
   ]
  },
  {
   "cell_type": "code",
   "execution_count": null,
   "metadata": {},
   "outputs": [],
   "source": []
  }
 ],
 "metadata": {
  "kernelspec": {
   "display_name": "Python 3 (xrft)",
   "language": "python",
   "name": "xrft"
  },
  "language_info": {
   "codemirror_mode": {
    "name": "ipython",
    "version": 3
   },
   "file_extension": ".py",
   "mimetype": "text/x-python",
   "name": "python",
   "nbconvert_exporter": "python",
   "pygments_lexer": "ipython3",
   "version": "3.8.0"
  }
 },
 "nbformat": 4,
 "nbformat_minor": 4
}
