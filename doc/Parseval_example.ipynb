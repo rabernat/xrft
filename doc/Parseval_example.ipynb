{
 "cells": [
  {
   "cell_type": "markdown",
   "metadata": {},
   "source": [
    "# Example of Parseval's theorem"
   ]
  },
  {
   "cell_type": "code",
   "execution_count": 1,
   "metadata": {},
   "outputs": [],
   "source": [
    "import numpy as np\n",
    "import numpy.testing as npt\n",
    "import xarray as xr\n",
    "import xrft\n",
    "import numpy.fft as npft\n",
    "import dask.array as dsar\n",
    "import matplotlib.pyplot as plt\n",
    "%matplotlib inline"
   ]
  },
  {
   "cell_type": "markdown",
   "metadata": {},
   "source": [
    "**First, we show that `xrft.dft` satisfies the Parseval's theorem exactly for a non-windowed signal**\n",
    "\n",
    "For one-dimensional data:\n",
    "$$\\sum_x (da)^2 \\Delta x = \\sum_k \\mathcal{F}(da)[\\mathcal{F}(da)]^* \\Delta k.$$\n",
    "## Generate synthetic data"
   ]
  },
  {
   "cell_type": "code",
   "execution_count": 10,
   "metadata": {},
   "outputs": [],
   "source": [
    "Nx = 40\n",
    "dx = np.random.rand()\n",
    "da = xr.DataArray(\n",
    "        np.random.rand(Nx) + 1j * np.random.rand(Nx),\n",
    "        dims=\"x\",\n",
    "        coords={\"x\": dx * (np.arange(-Nx // 2, -Nx // 2 + Nx)\n",
    "                           + np.random.randint(-Nx // 2, Nx // 2)\n",
    "                          )\n",
    "               },\n",
    "                 )"
   ]
  },
  {
   "cell_type": "code",
   "execution_count": 2,
   "metadata": {},
   "outputs": [],
   "source": [
    "###############\n",
    "# Assert Parseval's using xrft.dft\n",
    "###############\n",
    "FT = xrft.dft(da, dim=\"x\", true_phase=True, true_amplitude=True)\n",
    "npt.assert_almost_equal(\n",
    "        (np.abs(da) ** 2).sum() * dx, (np.abs(FT) ** 2).sum() * FT[\"freq_x\"].spacing\n",
    "                       )\n",
    "\n",
    "###############\n",
    "# Assert Parseval's using xrft.power_spectrum with scaling='density'\n",
    "###############\n",
    "ps = xrft.power_spectrum(da, dim=\"x\")\n",
    "npt.assert_almost_equal(\n",
    "        ps.sum(),\n",
    "        (np.abs(da) ** 2).sum() * dx\n",
    "                       )"
   ]
  },
  {
   "cell_type": "markdown",
   "metadata": {},
   "source": [
    "For two-dimensional data:\n",
    "$$\\sum_x \\sum_y (da)^2 \\Delta x \\Delta y = \\sum_k \\sum_l \\mathcal{F}(da)\\mathcal{F}(da)^* \\Delta k \\Delta l.$$\n",
    "## Generate synthetic data"
   ]
  },
  {
   "cell_type": "code",
   "execution_count": 11,
   "metadata": {},
   "outputs": [],
   "source": [
    "Ny = 60\n",
    "dx, dy = (np.random.rand(), np.random.rand())\n",
    "da2 = xr.DataArray(\n",
    "        np.random.rand(Nx, Ny) + 1j * np.random.rand(Nx, Ny),\n",
    "        dims=[\"x\", \"y\"],\n",
    "        coords={\"x\": dx\n",
    "                * (\n",
    "                    np.arange(-Nx // 2, -Nx // 2 + Nx)\n",
    "                    + np.random.randint(-Nx // 2, Nx // 2)\n",
    "                ),\n",
    "                \"y\": dy\n",
    "                * (\n",
    "                    np.arange(-Ny // 2, -Ny // 2 + Ny)\n",
    "                    + np.random.randint(-Ny // 2, Ny // 2)\n",
    "                ),\n",
    "              },\n",
    "                  )"
   ]
  },
  {
   "cell_type": "code",
   "execution_count": 3,
   "metadata": {},
   "outputs": [],
   "source": [
    "###############\n",
    "# Assert Parseval's using xrft.dft\n",
    "###############\n",
    "FT2 = xrft.dft(da2, dim=[\"x\", \"y\"], true_phase=True, true_amplitude=True)\n",
    "npt.assert_almost_equal(\n",
    "        (np.abs(FT2) ** 2).sum() * FT2[\"freq_x\"].spacing * FT2[\"freq_y\"].spacing,\n",
    "        (np.abs(da2) ** 2).sum() * dx * dy,\n",
    "                       )\n",
    "\n",
    "###############\n",
    "# Assert Parseval's using xrft.power_spectrum with scaling='density'\n",
    "###############\n",
    "ps2 = xrft.power_spectrum(da2, dim=[\"x\", \"y\"])\n",
    "npt.assert_almost_equal(\n",
    "        ps2.sum(),\n",
    "        (np.abs(da2) ** 2).sum() * dx * dy\n",
    "                       )\n",
    "\n",
    "###############\n",
    "# Assert Parseval's using xrft.power_spectrum with scaling='spectrum'\n",
    "###############\n",
    "ps2 = xrft.power_spectrum(da2, dim=[\"x\", \"y\"], scaling='spectrum')\n",
    "npt.assert_almost_equal(\n",
    "        ps2.sum() / (ps2.freq_x.spacing * ps2.freq_y.spacing),\n",
    "        (np.abs(da2) ** 2).sum() * dx * dy,\n",
    "                       )"
   ]
  },
  {
   "cell_type": "markdown",
   "metadata": {},
   "source": [
    "**Now, we show how Parseval's theorem is approximately satisfied for windowed data**\n",
    "$$\\frac{1}{\\langle w^2\\rangle} \\sum_x (w\\ da)^2 \\Delta x \\approx \\sum_x (da)^2 \\Delta x \\approx \\frac{1}{\\langle w^2\\rangle} \\sum_k \\mathcal{F}(w)\\circ\\mathcal{F}(da)[\\mathcal{F}(w)\\circ\\mathcal{F}(da)]^* \\Delta k,$$\n",
    "where $w$ is the windowing function, $\\circ$ is the convolution operator and $\\langle \\cdot \\rangle$ is the area sum.\n",
    "## Generate synthetic data"
   ]
  },
  {
   "cell_type": "code",
   "execution_count": 5,
   "metadata": {},
   "outputs": [],
   "source": [
    "A = 20\n",
    "fs = 1e4\n",
    "n_segments = int(fs // 10)\n",
    "fsig = 300\n",
    "ii = int(fsig * n_segments // fs)  # frequency index of fsig\n",
    "\n",
    "tt = np.arange(fs) / fs\n",
    "x = A * np.sin(2 * np.pi * fsig * tt)"
   ]
  },
  {
   "cell_type": "markdown",
   "metadata": {},
   "source": [
    "**Assert Parseval's for different windowing functions**\n",
    "\n",
    "Depending on the `scaling` flag, a different correction is applied to the windowed spectrum:\n",
    "\n",
    "- `scaling='density'`: **Energy correction** - this corrects for the energy (integral) of the spectrum. It is typically applied to the power spectral density (including cross power spectral density). It ensures that the integral of the spectral density (approximately) matches the square of the RMS of the signal.\n",
    "- `scaling='spectrum'`: **Amplitude correction** - this corrects the amplitude of peaks in the spectrum. It is typically applied to the power spectrum (ie not density) and is most useful in strongly periodic signals. It ensures, for example, that the peak in the power spectrum of a 10 Hz sine wave with RMS$^2=10$ has a magnitude of 10. "
   ]
  },
  {
   "cell_type": "code",
   "execution_count": 9,
   "metadata": {},
   "outputs": [],
   "source": [
    "for window_type in [\"hann\", \"bartlett\", \"tukey\", \"flattop\"]:\n",
    "# see https://github.com/scipy/scipy/blob/master/scipy/signal/tests/test_spectral.py#L485\n",
    "\n",
    "    x_da = xr.DataArray(x, coords=[tt], dims=[\"x\"]).chunk({\"x\": n_segments})\n",
    "    ps = xrft.power_spectrum(\n",
    "        x_da,\n",
    "        dim=\"x\",\n",
    "        window=window_type,\n",
    "        chunks_to_segments=True,\n",
    "        window_correction=True,\n",
    "    ).mean(\"x_segment\")\n",
    "    \n",
    "    ###############\n",
    "    # Check the energy correction for `scaling='density'`\n",
    "    ###############\n",
    "    npt.assert_allclose(\n",
    "        np.sqrt(np.trapz(ps.values, ps.freq_x.values)),\n",
    "        A * np.sqrt(2) / 2,\n",
    "        rtol=1e-3,\n",
    "    )\n",
    "\n",
    "    ps = xrft.power_spectrum(\n",
    "        x_da,\n",
    "        dim=\"x\",\n",
    "        window=window_type,\n",
    "        chunks_to_segments=True,\n",
    "        scaling=\"spectrum\",\n",
    "        window_correction=True,\n",
    "    ).mean(\"x_segment\")\n",
    "    \n",
    "    ###############\n",
    "    # Check the amplitude correction for `scaling='spectrum'`\n",
    "    ###############\n",
    "    # The factor of 0.5 is there because we're checking the two-sided spectrum\n",
    "    npt.assert_allclose(ps.sel(freq_x=fsig), 0.5 * A**2 / 2.0)"
   ]
  },
  {
   "cell_type": "code",
   "execution_count": null,
   "metadata": {},
   "outputs": [],
   "source": []
  }
 ],
 "metadata": {
  "kernelspec": {
   "display_name": "Python 3",
   "language": "python",
   "name": "python3"
  },
  "language_info": {
   "codemirror_mode": {
    "name": "ipython",
    "version": 3
   },
   "file_extension": ".py",
   "mimetype": "text/x-python",
   "name": "python",
   "nbconvert_exporter": "python",
   "pygments_lexer": "ipython3",
   "version": "3.8.1"
  }
 },
 "nbformat": 4,
 "nbformat_minor": 4
}
