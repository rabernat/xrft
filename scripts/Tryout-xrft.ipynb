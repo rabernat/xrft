{
 "cells": [
  {
   "cell_type": "code",
   "execution_count": 1,
   "metadata": {},
   "outputs": [],
   "source": [
    "import numpy as np\n",
    "import xarray as xr\n",
    "import xrft as xf\n",
    "import dask.array as dsar\n",
    "import os.path as op\n",
    "import scipy.fftpack as fft\n",
    "\n",
    "from matplotlib import colors\n",
    "import matplotlib.pyplot as plt\n",
    "%matplotlib inline"
   ]
  },
  {
   "cell_type": "code",
   "execution_count": 2,
   "metadata": {
    "collapsed": true
   },
   "outputs": [],
   "source": [
    "def synthetic_field(N=512, dL=1., amp=1e1, s=-3.):\n",
    "    \"\"\"\n",
    "    Generate a synthetic series of size N by N \n",
    "    with a spectral slope of s.\n",
    "    \"\"\"\n",
    "\n",
    "    k = fft.fftshift(fft.fftfreq(N, dL))\n",
    "    l = fft.fftshift(fft.fftfreq(N, dL))\n",
    "    kk, ll = np.meshgrid(k, l)\n",
    "    K = np.sqrt(kk**2+ll**2)\n",
    "\n",
    "    ########\n",
    "    # amplitude\n",
    "    ########\n",
    "    r_kl = np.ma.masked_invalid(np.sqrt(amp*.5*(np.pi)**(-1)*K**(s-1.))).filled(0.)\n",
    "    #r = np.ma.masked_invalid(np.abs(k)**(-slope/2.)).filled(0.)\n",
    "    ########\n",
    "    # phase\n",
    "    ########\n",
    "    phi = np.zeros((N, N))\n",
    "    \n",
    "    N_2 = int(N/2)\n",
    "    phi_upper_right = 2.*np.pi*np.random.random((N_2-1, \n",
    "                                                 N_2-1)) - np.pi\n",
    "    phi[N_2+1:,N_2+1:] = phi_upper_right.copy()\n",
    "    phi[1:N_2, 1:N_2] = -phi_upper_right[::-1, ::-1].copy()\n",
    "\n",
    "\n",
    "    phi_upper_left = 2.*np.pi*np.random.random((N_2-1, \n",
    "                                                N_2-1)) - np.pi\n",
    "    phi[N_2+1:,1:N_2] = phi_upper_left.copy()\n",
    "    phi[1:N_2, N_2+1:] = -phi_upper_left[::-1, ::-1].copy()\n",
    "\n",
    "\n",
    "    phi_upper_middle = 2.*np.pi*np.random.random(N_2) - np.pi\n",
    "    phi[N_2:, N_2] = phi_upper_middle.copy()\n",
    "    phi[1:N_2, N_2] = -phi_upper_middle[1:][::-1].copy()\n",
    "\n",
    "\n",
    "    phi_right_middle = 2.*np.pi*np.random.random(N_2-1) - np.pi\n",
    "    phi[N_2, N_2+1:] = phi_right_middle.copy()\n",
    "    phi[N_2, 1:N_2] = -phi_right_middle[::-1].copy()\n",
    "\n",
    "\n",
    "    phi_edge_upperleft = 2.*np.pi*np.random.random(N_2) - np.pi\n",
    "    phi[N_2:, 0] = phi_edge_upperleft.copy()\n",
    "    phi[1:N_2, 0] = -phi_edge_upperleft[1:][::-1].copy()\n",
    "\n",
    "\n",
    "    phi_bot_right = 2.*np.pi*np.random.random(N_2) - np.pi\n",
    "    phi[0, N_2:] = phi_bot_right.copy()\n",
    "    phi[0, 1:N_2] = -phi_bot_right[1:][::-1].copy()\n",
    "\n",
    "\n",
    "    phi_corner_leftbot = 2.*np.pi*np.random.random() - np.pi\n",
    "\n",
    "\n",
    "#     print(phi[N/2-1,N-1], phi[N/2+1,1])\n",
    "#     print(phi[N/2+1,N/2+1], phi[N/2-1,N/2-1])\n",
    "\n",
    "\n",
    "#     phi[:N/2, :] = -np.rot90(np.rot90(phi[N/2:, :]))\n",
    "#     phi[:N/2, :] = -phi[N/2:, :][::-1,::-1]\n",
    "#     i, j = 25, 40\n",
    "#     print(phi[N/2+j,N/2+i], -phi[N/2-j,N/2-i])\n",
    "\n",
    "    for i in range(1, N_2):\n",
    "        for j in range(1, N_2):\n",
    "            assert (phi[N_2+j, N_2+i] == -phi[N_2-j, N_2-i])\n",
    "        \n",
    "    for i in range(1, N_2):\n",
    "        for j in range(1, N_2):\n",
    "            assert (phi[N_2+j, N_2-i] == -phi[N_2-j, N_2+i])\n",
    "        \n",
    "    for i in range(1, N_2):\n",
    "        assert (phi[N_2, N-i] == -phi[N_2, i])\n",
    "        assert (phi[N-i, N_2] == -phi[i, N_2])\n",
    "        assert (phi[N-i, 0] == -phi[i, 0])\n",
    "        assert (phi[0, i] == -phi[0, N-i])\n",
    "    #########\n",
    "    # complex fourier amplitudes\n",
    "    #########\n",
    "    #a = r + 1j*th\n",
    "    F_theta = r_kl * np.exp(1j * phi)\n",
    "    \n",
    "    # check that symmetry of FT is satisfied\n",
    "    #np.testing.assert_almost_equal(a[1:N/2], a[-1:-N/2:-1].conj())\n",
    "\n",
    "    theta = fft.ifft2(fft.ifftshift(F_theta))\n",
    "    return np.real(theta) "
   ]
  },
  {
   "cell_type": "code",
   "execution_count": 3,
   "metadata": {
    "scrolled": true
   },
   "outputs": [
    {
     "name": "stdout",
     "output_type": "stream",
     "text": [
      "(512, 512)\n"
     ]
    },
    {
     "name": "stderr",
     "output_type": "stream",
     "text": [
      "/Users/uchidatakaya/anaconda/envs/xrft/lib/python3.6/site-packages/ipykernel_launcher.py:15: RuntimeWarning: divide by zero encountered in power\n",
      "  from ipykernel import kernelapp as app\n"
     ]
    },
    {
     "data": {
      "text/plain": [
       "<xarray.DataArray (k: 512, l: 512)>\n",
       "array([[-4.177989, -4.313072, -4.443979, ..., -3.807599, -3.890817, -4.039222],\n",
       "       [-4.125089, -4.241972, -4.370782, ..., -3.871156, -3.944034, -4.013669],\n",
       "       [-4.142801, -4.228413, -4.358481, ..., -3.851016, -3.914324, -4.033969],\n",
       "       ..., \n",
       "       [-4.075208, -4.233799, -4.405788, ..., -3.646007, -3.757123, -3.932068],\n",
       "       [-4.144576, -4.304499, -4.451992, ..., -3.730878, -3.816756, -3.969261],\n",
       "       [-4.234254, -4.352095, -4.497717, ..., -3.754923, -3.852816, -4.047693]])\n",
       "Coordinates:\n",
       "  * k        (k) int64 0 1 2 3 4 5 6 7 8 9 10 11 12 13 14 15 16 17 18 19 20 ...\n",
       "  * l        (l) int64 0 1 2 3 4 5 6 7 8 9 10 11 12 13 14 15 16 17 18 19 20 ..."
      ]
     },
     "execution_count": 3,
     "metadata": {},
     "output_type": "execute_result"
    }
   ],
   "source": [
    "theta = synthetic_field(N=512, s=-3.)\n",
    "print(theta.shape)\n",
    "theta = xr.DataArray(theta, dims=['k', 'l'],\n",
    "            coords={'k':range(512), 'l':range(512)})\n",
    "# theta = dsar.from_array(theta, chunks=(32, 32))\n",
    "theta"
   ]
  },
  {
   "cell_type": "code",
   "execution_count": 4,
   "metadata": {
    "scrolled": true
   },
   "outputs": [
    {
     "ename": "NameError",
     "evalue": "name 'nbins' is not defined",
     "output_type": "error",
     "traceback": [
      "\u001b[0;31m---------------------------------------------------------------------------\u001b[0m",
      "\u001b[0;31mNameError\u001b[0m                                 Traceback (most recent call last)",
      "\u001b[0;32m<ipython-input-4-39e6402354f6>\u001b[0m in \u001b[0;36m<module>\u001b[0;34m()\u001b[0m\n\u001b[1;32m      1\u001b[0m iso_f = xf.isotropic_powerspectrum(theta, remove_mean=True, \n\u001b[0;32m----> 2\u001b[0;31m                   density=True)\n\u001b[0m",
      "\u001b[0;32m/Users/uchidatakaya/Documents/Python/xrft/xrft/xrft.py\u001b[0m in \u001b[0;36misotropic_powerspectrum\u001b[0;34m(da, dim, shift, remove_mean, density, nbins)\u001b[0m\n\u001b[1;32m    291\u001b[0m     \u001b[0ml\u001b[0m \u001b[0;34m=\u001b[0m \u001b[0mps\u001b[0m\u001b[0;34m[\u001b[0m\u001b[0mps\u001b[0m\u001b[0;34m.\u001b[0m\u001b[0mdims\u001b[0m\u001b[0;34m[\u001b[0m\u001b[0;36m1\u001b[0m\u001b[0;34m]\u001b[0m\u001b[0;34m]\u001b[0m\u001b[0;34m.\u001b[0m\u001b[0mvalues\u001b[0m\u001b[0;34m\u001b[0m\u001b[0m\n\u001b[1;32m    292\u001b[0m \u001b[0;34m\u001b[0m\u001b[0m\n\u001b[0;32m--> 293\u001b[0;31m     \u001b[0mkr\u001b[0m\u001b[0;34m,\u001b[0m \u001b[0miso_ps\u001b[0m \u001b[0;34m=\u001b[0m \u001b[0m_azimuthal_avg\u001b[0m\u001b[0;34m(\u001b[0m\u001b[0mk\u001b[0m\u001b[0;34m,\u001b[0m \u001b[0ml\u001b[0m\u001b[0;34m,\u001b[0m \u001b[0mps\u001b[0m\u001b[0;34m)\u001b[0m\u001b[0;34m\u001b[0m\u001b[0m\n\u001b[0m\u001b[1;32m    294\u001b[0m \u001b[0;34m\u001b[0m\u001b[0m\n\u001b[1;32m    295\u001b[0m     return xr.DataArray(iso_ps, dims=['freq_r'],\n",
      "\u001b[0;32m/Users/uchidatakaya/Documents/Python/xrft/xrft/xrft.py\u001b[0m in \u001b[0;36m_azimuthal_avg\u001b[0;34m(k, l, f)\u001b[0m\n\u001b[1;32m    239\u001b[0m         \u001b[0mki\u001b[0m \u001b[0;34m=\u001b[0m \u001b[0mnp\u001b[0m\u001b[0;34m.\u001b[0m\u001b[0mlinspace\u001b[0m\u001b[0;34m(\u001b[0m\u001b[0;36m0.\u001b[0m\u001b[0;34m,\u001b[0m \u001b[0ml\u001b[0m\u001b[0;34m.\u001b[0m\u001b[0mmax\u001b[0m\u001b[0;34m(\u001b[0m\u001b[0;34m)\u001b[0m\u001b[0;34m,\u001b[0m \u001b[0mnbins\u001b[0m\u001b[0;34m)\u001b[0m\u001b[0;34m\u001b[0m\u001b[0m\n\u001b[1;32m    240\u001b[0m     \u001b[0;32melse\u001b[0m\u001b[0;34m:\u001b[0m\u001b[0;34m\u001b[0m\u001b[0m\n\u001b[0;32m--> 241\u001b[0;31m         \u001b[0mki\u001b[0m \u001b[0;34m=\u001b[0m \u001b[0mnp\u001b[0m\u001b[0;34m.\u001b[0m\u001b[0mlinspace\u001b[0m\u001b[0;34m(\u001b[0m\u001b[0;36m0.\u001b[0m\u001b[0;34m,\u001b[0m \u001b[0mk\u001b[0m\u001b[0;34m.\u001b[0m\u001b[0mmax\u001b[0m\u001b[0;34m(\u001b[0m\u001b[0;34m)\u001b[0m\u001b[0;34m,\u001b[0m \u001b[0mnbins\u001b[0m\u001b[0;34m)\u001b[0m\u001b[0;34m\u001b[0m\u001b[0m\n\u001b[0m\u001b[1;32m    242\u001b[0m \u001b[0;34m\u001b[0m\u001b[0m\n\u001b[1;32m    243\u001b[0m     \u001b[0mkidx\u001b[0m \u001b[0;34m=\u001b[0m \u001b[0mnp\u001b[0m\u001b[0;34m.\u001b[0m\u001b[0mdigitize\u001b[0m\u001b[0;34m(\u001b[0m\u001b[0mK\u001b[0m\u001b[0;34m.\u001b[0m\u001b[0mravel\u001b[0m\u001b[0;34m(\u001b[0m\u001b[0;34m)\u001b[0m\u001b[0;34m,\u001b[0m \u001b[0mki\u001b[0m\u001b[0;34m)\u001b[0m\u001b[0;34m\u001b[0m\u001b[0m\n",
      "\u001b[0;31mNameError\u001b[0m: name 'nbins' is not defined"
     ]
    }
   ],
   "source": [
    "iso_f = xf.isotropic_powerspectrum(theta, remove_mean=True, \n",
    "                  density=True)"
   ]
  },
  {
   "cell_type": "code",
   "execution_count": null,
   "metadata": {
    "scrolled": false
   },
   "outputs": [],
   "source": [
    "iso_f"
   ]
  },
  {
   "cell_type": "code",
   "execution_count": null,
   "metadata": {
    "scrolled": true
   },
   "outputs": [],
   "source": [
    "fig = plt.figure(figsize=(11,4))\n",
    "\n",
    "ax1 = fig.add_subplot(121)\n",
    "ax1.loglog(iso_f.freq_r,iso_f)"
   ]
  },
  {
   "cell_type": "code",
   "execution_count": null,
   "metadata": {
    "collapsed": true
   },
   "outputs": [],
   "source": [
    "y_fit, a, b = xf.fit_loglog(iso_f.freq_r.values[4:],\n",
    "                            iso_f.values[4:])"
   ]
  },
  {
   "cell_type": "code",
   "execution_count": null,
   "metadata": {},
   "outputs": [],
   "source": [
    "a"
   ]
  },
  {
   "cell_type": "code",
   "execution_count": null,
   "metadata": {
    "collapsed": true
   },
   "outputs": [],
   "source": []
  }
 ],
 "metadata": {
  "kernelspec": {
   "display_name": "Python 3 (xrft)",
   "language": "python",
   "name": "xrft"
  },
  "language_info": {
   "codemirror_mode": {
    "name": "ipython",
    "version": 3
   },
   "file_extension": ".py",
   "mimetype": "text/x-python",
   "name": "python",
   "nbconvert_exporter": "python",
   "pygments_lexer": "ipython3",
   "version": "3.6.1"
  }
 },
 "nbformat": 4,
 "nbformat_minor": 2
}
