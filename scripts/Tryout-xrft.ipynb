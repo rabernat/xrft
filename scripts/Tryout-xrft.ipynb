{
 "cells": [
  {
   "cell_type": "code",
   "execution_count": 1,
   "metadata": {},
   "outputs": [],
   "source": [
    "import numpy as np\n",
    "import xarray as xr\n",
    "import xrft as xf\n",
    "import dask.array as dsar\n",
    "import os.path as op\n",
    "import scipy.fftpack as fft\n",
    "\n",
    "from matplotlib import colors\n",
    "import matplotlib.pyplot as plt\n",
    "%matplotlib inline"
   ]
  },
  {
   "cell_type": "code",
   "execution_count": 2,
   "metadata": {
    "collapsed": true
   },
   "outputs": [],
   "source": [
    "def synthetic_field(N=512, dL=1., amp=1e1, s=-3.):\n",
    "    \"\"\"\n",
    "    Generate a synthetic series of size N by N \n",
    "    with a spectral slope of s.\n",
    "    \"\"\"\n",
    "\n",
    "    k = fft.fftshift(fft.fftfreq(N, dL))\n",
    "    l = fft.fftshift(fft.fftfreq(N, dL))\n",
    "    kk, ll = np.meshgrid(k, l)\n",
    "    K = np.sqrt(kk**2+ll**2)\n",
    "\n",
    "    ########\n",
    "    # amplitude\n",
    "    ########\n",
    "    r_kl = np.ma.masked_invalid(np.sqrt(amp*.5*(np.pi)**(-1)*K**(s-1.))).filled(0.)\n",
    "    #r = np.ma.masked_invalid(np.abs(k)**(-slope/2.)).filled(0.)\n",
    "    ########\n",
    "    # phase\n",
    "    ########\n",
    "    phi = np.zeros((N, N))\n",
    "    \n",
    "    N_2 = int(N/2)\n",
    "    phi_upper_right = 2.*np.pi*np.random.random((N_2-1, \n",
    "                                                 N_2-1)) - np.pi\n",
    "    phi[N_2+1:,N_2+1:] = phi_upper_right.copy()\n",
    "    phi[1:N_2, 1:N_2] = -phi_upper_right[::-1, ::-1].copy()\n",
    "\n",
    "\n",
    "    phi_upper_left = 2.*np.pi*np.random.random((N_2-1, \n",
    "                                                N_2-1)) - np.pi\n",
    "    phi[N_2+1:,1:N_2] = phi_upper_left.copy()\n",
    "    phi[1:N_2, N_2+1:] = -phi_upper_left[::-1, ::-1].copy()\n",
    "\n",
    "\n",
    "    phi_upper_middle = 2.*np.pi*np.random.random(N_2) - np.pi\n",
    "    phi[N_2:, N_2] = phi_upper_middle.copy()\n",
    "    phi[1:N_2, N_2] = -phi_upper_middle[1:][::-1].copy()\n",
    "\n",
    "\n",
    "    phi_right_middle = 2.*np.pi*np.random.random(N_2-1) - np.pi\n",
    "    phi[N_2, N_2+1:] = phi_right_middle.copy()\n",
    "    phi[N_2, 1:N_2] = -phi_right_middle[::-1].copy()\n",
    "\n",
    "\n",
    "    phi_edge_upperleft = 2.*np.pi*np.random.random(N_2) - np.pi\n",
    "    phi[N_2:, 0] = phi_edge_upperleft.copy()\n",
    "    phi[1:N_2, 0] = -phi_edge_upperleft[1:][::-1].copy()\n",
    "\n",
    "\n",
    "    phi_bot_right = 2.*np.pi*np.random.random(N_2) - np.pi\n",
    "    phi[0, N_2:] = phi_bot_right.copy()\n",
    "    phi[0, 1:N_2] = -phi_bot_right[1:][::-1].copy()\n",
    "\n",
    "\n",
    "    phi_corner_leftbot = 2.*np.pi*np.random.random() - np.pi\n",
    "\n",
    "\n",
    "#     print(phi[N/2-1,N-1], phi[N/2+1,1])\n",
    "#     print(phi[N/2+1,N/2+1], phi[N/2-1,N/2-1])\n",
    "\n",
    "\n",
    "#     phi[:N/2, :] = -np.rot90(np.rot90(phi[N/2:, :]))\n",
    "#     phi[:N/2, :] = -phi[N/2:, :][::-1,::-1]\n",
    "#     i, j = 25, 40\n",
    "#     print(phi[N/2+j,N/2+i], -phi[N/2-j,N/2-i])\n",
    "\n",
    "    for i in range(1, N_2):\n",
    "        for j in range(1, N_2):\n",
    "            assert (phi[N_2+j, N_2+i] == -phi[N_2-j, N_2-i])\n",
    "        \n",
    "    for i in range(1, N_2):\n",
    "        for j in range(1, N_2):\n",
    "            assert (phi[N_2+j, N_2-i] == -phi[N_2-j, N_2+i])\n",
    "        \n",
    "    for i in range(1, N_2):\n",
    "        assert (phi[N_2, N-i] == -phi[N_2, i])\n",
    "        assert (phi[N-i, N_2] == -phi[i, N_2])\n",
    "        assert (phi[N-i, 0] == -phi[i, 0])\n",
    "        assert (phi[0, i] == -phi[0, N-i])\n",
    "    #########\n",
    "    # complex fourier amplitudes\n",
    "    #########\n",
    "    #a = r + 1j*th\n",
    "    F_theta = r_kl * np.exp(1j * phi)\n",
    "    \n",
    "    # check that symmetry of FT is satisfied\n",
    "    #np.testing.assert_almost_equal(a[1:N/2], a[-1:-N/2:-1].conj())\n",
    "\n",
    "    theta = fft.ifft2(fft.ifftshift(F_theta))\n",
    "    return np.real(theta) "
   ]
  },
  {
   "cell_type": "code",
   "execution_count": 3,
   "metadata": {
    "scrolled": true
   },
   "outputs": [
    {
     "name": "stdout",
     "output_type": "stream",
     "text": [
      "(512, 512)\n"
     ]
    },
    {
     "name": "stderr",
     "output_type": "stream",
     "text": [
      "/Users/uchidatakaya/anaconda/envs/xrft/lib/python3.6/site-packages/ipykernel_launcher.py:15: RuntimeWarning: divide by zero encountered in power\n",
      "  from ipykernel import kernelapp as app\n"
     ]
    },
    {
     "data": {
      "text/plain": [
       "<xarray.DataArray (k: 512, l: 512)>\n",
       "array([[ 1.185092,  1.099719,  1.040825, ...,  1.360922,  1.365948,  1.315806],\n",
       "       [ 1.167834,  1.073473,  1.041742, ...,  1.387335,  1.364949,  1.300863],\n",
       "       [ 1.19688 ,  1.102118,  1.056392, ...,  1.353963,  1.330384,  1.292935],\n",
       "       ..., \n",
       "       [ 1.088151,  0.993882,  0.8708  , ...,  1.210682,  1.224271,  1.168166],\n",
       "       [ 1.133357,  1.047695,  0.944049, ...,  1.279446,  1.281442,  1.233213],\n",
       "       [ 1.186345,  1.077099,  1.017761, ...,  1.299118,  1.31202 ,  1.290461]])\n",
       "Coordinates:\n",
       "  * k        (k) int64 0 1 2 3 4 5 6 7 8 9 10 11 12 13 14 15 16 17 18 19 20 ...\n",
       "  * l        (l) int64 0 1 2 3 4 5 6 7 8 9 10 11 12 13 14 15 16 17 18 19 20 ..."
      ]
     },
     "execution_count": 3,
     "metadata": {},
     "output_type": "execute_result"
    }
   ],
   "source": [
    "theta = synthetic_field(N=512, s=-3.)\n",
    "print(theta.shape)\n",
    "theta = xr.DataArray(theta, dims=['k', 'l'],\n",
    "            coords={'k':range(512), 'l':range(512)})\n",
    "# theta = dsar.from_array(theta, chunks=(32, 32))\n",
    "theta"
   ]
  },
  {
   "cell_type": "code",
   "execution_count": 4,
   "metadata": {
    "scrolled": true
   },
   "outputs": [
    {
     "name": "stderr",
     "output_type": "stream",
     "text": [
      "/Users/uchidatakaya/Documents/Python/xrft/xrft/xrft.py:247: RuntimeWarning: invalid value encountered in true_divide\n",
      "  weights=K.ravel()) / area\n",
      "/Users/uchidatakaya/Documents/Python/xrft/xrft/xrft.py:251: RuntimeWarning: invalid value encountered in true_divide\n",
      "  / area\n"
     ]
    }
   ],
   "source": [
    "iso_f = xf.isotropic_powerspectrum(theta, remove_mean=True, \n",
    "                  density=True)"
   ]
  },
  {
   "cell_type": "code",
   "execution_count": 5,
   "metadata": {
    "scrolled": false
   },
   "outputs": [
    {
     "data": {
      "text/plain": [
       "<xarray.DataArray (freq_r: 65)>\n",
       "array([           nan,   2.550221e+02,   4.903986e+00,   8.391019e-01,\n",
       "         2.988403e-01,   1.379649e-01,   7.498363e-02,   4.502427e-02,\n",
       "         2.927883e-02,   2.008844e-02,   1.435778e-02,   1.067054e-02,\n",
       "         8.117941e-03,   6.309782e-03,   5.005780e-03,   4.044307e-03,\n",
       "         3.314148e-03,   2.744339e-03,   2.299836e-03,   1.946939e-03,\n",
       "         1.662942e-03,   1.431469e-03,   1.240042e-03,   1.080280e-03,\n",
       "         9.469672e-04,   8.359031e-04,   7.415839e-04,   6.604993e-04,\n",
       "         5.908240e-04,   5.309626e-04,   4.790399e-04,   4.332895e-04,\n",
       "         3.932416e-04,   3.581096e-04,   3.269543e-04,   2.993571e-04,\n",
       "         2.748810e-04,   2.529597e-04,   2.331994e-04,   2.154656e-04,\n",
       "         1.995924e-04,   1.851549e-04,   1.720689e-04,   1.601456e-04,\n",
       "         1.492893e-04,   1.394817e-04,   1.304702e-04,   1.222226e-04,\n",
       "         1.146581e-04,   1.076999e-04,   1.013231e-04,   9.542842e-05,\n",
       "         8.997212e-05,   8.492804e-05,   8.025015e-05,   7.593049e-05,\n",
       "         7.190587e-05,   6.813899e-05,   6.466280e-05,   6.141373e-05,\n",
       "         5.835766e-05,   5.551084e-05,   5.285109e-05,   5.035758e-05,\n",
       "         3.677363e-05])\n",
       "Coordinates:\n",
       "  * freq_r   (freq_r) float64 nan 0.005142 0.01239 0.02018 0.02793 0.03579 ..."
      ]
     },
     "execution_count": 5,
     "metadata": {},
     "output_type": "execute_result"
    }
   ],
   "source": [
    "iso_f"
   ]
  },
  {
   "cell_type": "code",
   "execution_count": 6,
   "metadata": {
    "scrolled": true
   },
   "outputs": [
    {
     "data": {
      "text/plain": [
       "[<matplotlib.lines.Line2D at 0x119096240>]"
      ]
     },
     "execution_count": 6,
     "metadata": {},
     "output_type": "execute_result"
    },
    {
     "data": {
      "image/png": "[encoded data removed]",
      "text/plain": [
       "<matplotlib.figure.Figure at 0x1185dc518>"
      ]
     },
     "metadata": {},
     "output_type": "display_data"
    }
   ],
   "source": [
    "fig = plt.figure(figsize=(11,4))\n",
    "\n",
    "ax1 = fig.add_subplot(121)\n",
    "ax1.loglog(iso_f.freq_r,iso_f)"
   ]
  },
  {
   "cell_type": "code",
   "execution_count": 7,
   "metadata": {
    "collapsed": true
   },
   "outputs": [],
   "source": [
    "y_fit, a, b = xf.fit_loglog(iso_f.freq_r.values[4:],\n",
    "                            iso_f.values[4:])"
   ]
  },
  {
   "cell_type": "code",
   "execution_count": 8,
   "metadata": {},
   "outputs": [
    {
     "data": {
      "text/plain": [
       "-3.0092970567494897"
      ]
     },
     "execution_count": 8,
     "metadata": {},
     "output_type": "execute_result"
    }
   ],
   "source": [
    "a"
   ]
  },
  {
   "cell_type": "code",
   "execution_count": 9,
   "metadata": {},
   "outputs": [
    {
     "name": "stderr",
     "output_type": "stream",
     "text": [
      "/Users/uchidatakaya/anaconda/envs/xrft/lib/python3.6/site-packages/ipykernel_launcher.py:15: RuntimeWarning: divide by zero encountered in power\n",
      "  from ipykernel import kernelapp as app\n"
     ]
    }
   ],
   "source": [
    "theta1 = synthetic_field(N=512, s=-3.)\n",
    "theta1 = xr.DataArray(theta1, dims=['k', 'l'],\n",
    "            coords={'k':range(512), 'l':range(512)})\n",
    "theta2 = synthetic_field(N=512, s=-3.)\n",
    "theta2 = xr.DataArray(theta2, dims=['k', 'l'],\n",
    "            coords={'k':range(512), 'l':range(512)})"
   ]
  },
  {
   "cell_type": "code",
   "execution_count": 10,
   "metadata": {},
   "outputs": [
    {
     "name": "stderr",
     "output_type": "stream",
     "text": [
      "/Users/uchidatakaya/Documents/Python/xrft/xrft/xrft.py:247: RuntimeWarning: invalid value encountered in true_divide\n",
      "  weights=K.ravel()) / area\n",
      "/Users/uchidatakaya/Documents/Python/xrft/xrft/xrft.py:251: RuntimeWarning: invalid value encountered in true_divide\n",
      "  / area\n"
     ]
    }
   ],
   "source": [
    "iso_cs = xf.isotropic_crossspectrum(theta1, theta2)"
   ]
  },
  {
   "cell_type": "code",
   "execution_count": 13,
   "metadata": {},
   "outputs": [
    {
     "name": "stderr",
     "output_type": "stream",
     "text": [
      "/Users/uchidatakaya/anaconda/envs/xrft/lib/python3.6/site-packages/numpy/ma/core.py:852: RuntimeWarning: invalid value encountered in greater_equal\n",
      "  return umath.absolute(a) * self.tolerance >= umath.absolute(b)\n",
      "/Users/uchidatakaya/anaconda/envs/xrft/lib/python3.6/site-packages/numpy/ma/core.py:867: RuntimeWarning: invalid value encountered in less_equal\n",
      "  return umath.less_equal(x, self.critical_value)\n"
     ]
    },
    {
     "data": {
      "image/png": "[encoded data removed]",
      "text/plain": [
       "<matplotlib.figure.Figure at 0x119232fd0>"
      ]
     },
     "metadata": {},
     "output_type": "display_data"
    }
   ],
   "source": [
    "fig = plt.figure(figsize=(11,4))\n",
    "\n",
    "ax1 = fig.add_subplot(121)\n",
    "iso_cs.plot()\n",
    "ax1.set_yscale('symlog')"
   ]
  },
  {
   "cell_type": "code",
   "execution_count": null,
   "metadata": {
    "collapsed": true
   },
   "outputs": [],
   "source": []
  }
 ],
 "metadata": {
  "kernelspec": {
   "display_name": "Python 3 (xrft)",
   "language": "python",
   "name": "xrft"
  },
  "language_info": {
   "codemirror_mode": {
    "name": "ipython",
    "version": 3
   },
   "file_extension": ".py",
   "mimetype": "text/x-python",
   "name": "python",
   "nbconvert_exporter": "python",
   "pygments_lexer": "ipython3",
   "version": "3.6.1"
  }
 },
 "nbformat": 4,
 "nbformat_minor": 2
}
