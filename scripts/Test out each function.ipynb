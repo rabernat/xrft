{
 "cells": [
  {
   "cell_type": "code",
   "execution_count": 8,
   "metadata": {
    "collapsed": true
   },
   "outputs": [],
   "source": [
    "import numpy as np\n",
    "import xarray as xr\n",
    "import scipy.fftpack as fft\n",
    "import dask.array as dsar\n",
    "import os.path as op\n",
    "import pandas as pd\n",
    "\n",
    "import matplotlib.pyplot as plt\n",
    "%matplotlib inline"
   ]
  },
  {
   "cell_type": "code",
   "execution_count": 3,
   "metadata": {
    "collapsed": true
   },
   "outputs": [],
   "source": [
    "def synthetic_field(N=512, dL=1., amp=1e1, s=-3.):\n",
    "    \"\"\"\n",
    "    Generate a synthetic series of size N by N \n",
    "    with a spectral slope of s.\n",
    "    \"\"\"\n",
    "\n",
    "    k = fft.fftshift(fft.fftfreq(N, dL))\n",
    "    l = fft.fftshift(fft.fftfreq(N, dL))\n",
    "    kk, ll = np.meshgrid(k, l)\n",
    "    K = np.sqrt(kk**2+ll**2)\n",
    "\n",
    "    ########\n",
    "    # amplitude\n",
    "    ########\n",
    "    r_kl = np.ma.masked_invalid(np.sqrt(amp*.5*(np.pi)**(-1)*K**(s-1.))).filled(0.)\n",
    "    #r = np.ma.masked_invalid(np.abs(k)**(-slope/2.)).filled(0.)\n",
    "    ########\n",
    "    # phase\n",
    "    ########\n",
    "    phi = np.zeros((N, N))\n",
    "    \n",
    "    N_2 = int(N/2)\n",
    "    phi_upper_right = 2.*np.pi*np.random.random((N_2-1, \n",
    "                                                 N_2-1)) - np.pi\n",
    "    phi[N_2+1:,N_2+1:] = phi_upper_right.copy()\n",
    "    phi[1:N_2, 1:N_2] = -phi_upper_right[::-1, ::-1].copy()\n",
    "\n",
    "\n",
    "    phi_upper_left = 2.*np.pi*np.random.random((N_2-1, \n",
    "                                                N_2-1)) - np.pi\n",
    "    phi[N_2+1:,1:N_2] = phi_upper_left.copy()\n",
    "    phi[1:N_2, N_2+1:] = -phi_upper_left[::-1, ::-1].copy()\n",
    "\n",
    "\n",
    "    phi_upper_middle = 2.*np.pi*np.random.random(N_2) - np.pi\n",
    "    phi[N_2:, N_2] = phi_upper_middle.copy()\n",
    "    phi[1:N_2, N_2] = -phi_upper_middle[1:][::-1].copy()\n",
    "\n",
    "\n",
    "    phi_right_middle = 2.*np.pi*np.random.random(N_2-1) - np.pi\n",
    "    phi[N_2, N_2+1:] = phi_right_middle.copy()\n",
    "    phi[N_2, 1:N_2] = -phi_right_middle[::-1].copy()\n",
    "\n",
    "\n",
    "    phi_edge_upperleft = 2.*np.pi*np.random.random(N_2) - np.pi\n",
    "    phi[N_2:, 0] = phi_edge_upperleft.copy()\n",
    "    phi[1:N_2, 0] = -phi_edge_upperleft[1:][::-1].copy()\n",
    "\n",
    "\n",
    "    phi_bot_right = 2.*np.pi*np.random.random(N_2) - np.pi\n",
    "    phi[0, N_2:] = phi_bot_right.copy()\n",
    "    phi[0, 1:N_2] = -phi_bot_right[1:][::-1].copy()\n",
    "\n",
    "\n",
    "    phi_corner_leftbot = 2.*np.pi*np.random.random() - np.pi\n",
    "\n",
    "\n",
    "#     print(phi[N/2-1,N-1], phi[N/2+1,1])\n",
    "#     print(phi[N/2+1,N/2+1], phi[N/2-1,N/2-1])\n",
    "\n",
    "\n",
    "#     phi[:N/2, :] = -np.rot90(np.rot90(phi[N/2:, :]))\n",
    "#     phi[:N/2, :] = -phi[N/2:, :][::-1,::-1]\n",
    "#     i, j = 25, 40\n",
    "#     print(phi[N/2+j,N/2+i], -phi[N/2-j,N/2-i])\n",
    "\n",
    "    for i in range(1, N_2):\n",
    "        for j in range(1, N_2):\n",
    "            assert (phi[N_2+j, N_2+i] == -phi[N_2-j, N_2-i])\n",
    "        \n",
    "    for i in range(1, N_2):\n",
    "        for j in range(1, N_2):\n",
    "            assert (phi[N_2+j, N_2-i] == -phi[N_2-j, N_2+i])\n",
    "        \n",
    "    for i in range(1, N_2):\n",
    "        assert (phi[N_2, N-i] == -phi[N_2, i])\n",
    "        assert (phi[N-i, N_2] == -phi[i, N_2])\n",
    "        assert (phi[N-i, 0] == -phi[i, 0])\n",
    "        assert (phi[0, i] == -phi[0, N-i])\n",
    "    #########\n",
    "    # complex fourier amplitudes\n",
    "    #########\n",
    "    #a = r + 1j*th\n",
    "    F_theta = r_kl * np.exp(1j * phi)\n",
    "    \n",
    "    # check that symmetry of FT is satisfied\n",
    "    #np.testing.assert_almost_equal(a[1:N/2], a[-1:-N/2:-1].conj())\n",
    "\n",
    "    theta = fft.ifft2(fft.ifftshift(F_theta))\n",
    "    return np.real(theta) "
   ]
  },
  {
   "cell_type": "code",
   "execution_count": 97,
   "metadata": {
    "scrolled": true
   },
   "outputs": [
    {
     "name": "stdout",
     "output_type": "stream",
     "text": [
      "(512, 512)\n"
     ]
    },
    {
     "name": "stderr",
     "output_type": "stream",
     "text": [
      "/Users/uchidatakaya/anaconda/envs/xrft/lib/python3.6/site-packages/ipykernel_launcher.py:15: RuntimeWarning: divide by zero encountered in power\n",
      "  from ipykernel import kernelapp as app\n"
     ]
    },
    {
     "data": {
      "text/plain": [
       "<xarray.DataArray (x: 512, y: 512)>\n",
       "array([[ 1.33968 ,  1.244857,  1.141161, ...,  1.700922,  1.556506,  1.456991],\n",
       "       [ 1.353033,  1.239265,  1.14533 , ...,  1.630566,  1.474879,  1.413957],\n",
       "       [ 1.395392,  1.294711,  1.158358, ...,  1.604388,  1.473878,  1.416435],\n",
       "       ..., \n",
       "       [ 1.407155,  1.276178,  1.131   , ...,  1.761787,  1.645072,  1.53301 ],\n",
       "       [ 1.373473,  1.259248,  1.115498, ...,  1.756696,  1.65175 ,  1.508392],\n",
       "       [ 1.378717,  1.269396,  1.149053, ...,  1.730754,  1.603561,  1.485835]])\n",
       "Coordinates:\n",
       "  * x        (x) int64 0 1 2 3 4 5 6 7 8 9 10 11 12 13 14 15 16 17 18 19 20 ...\n",
       "  * y        (y) int64 0 1 2 3 4 5 6 7 8 9 10 11 12 13 14 15 16 17 18 19 20 ..."
      ]
     },
     "execution_count": 97,
     "metadata": {},
     "output_type": "execute_result"
    }
   ],
   "source": [
    "theta = synthetic_field(N=512, s=-3.)\n",
    "print(theta.shape)\n",
    "theta = xr.DataArray(theta, dims=['x', 'y'],\n",
    "            coords={'x':range(512), 'y':range(512)})\n",
    "# theta = dsar.from_array(theta, chunks=(32, 32))\n",
    "theta"
   ]
  },
  {
   "cell_type": "code",
   "execution_count": 98,
   "metadata": {
    "collapsed": true
   },
   "outputs": [],
   "source": [
    "def dft(da, dim=None, shift=True, remove_mean=True):\n",
    "    \"\"\"\n",
    "    Perform discrete Fourier transform of xarray data-array `da` along the\n",
    "    specified dimensions.\n",
    "\n",
    "    Parameters\n",
    "    ----------\n",
    "    da : `xarray.DataArray`\n",
    "        The data to be transformed\n",
    "    dim : list (optional)\n",
    "        The dimensions along which to take the transformation. If `None`, all\n",
    "        dimensions will be transformed.\n",
    "    shift : bool (optional)\n",
    "        Whether to shift the fft output.\n",
    "    remove_mean : bool (optional)\n",
    "        If `True`, the mean across the transform dimensions will be subtracted\n",
    "        before calculating the Fourier transform.\n",
    "\n",
    "    Returns\n",
    "    -------\n",
    "    daft : `xarray.DataArray`\n",
    "        The output of the Fourier transformation, with appropriate dimensions.\n",
    "    \"\"\"\n",
    "\n",
    "    if dim is None:\n",
    "        dim = da.dims\n",
    "\n",
    "    # the axes along which to take ffts\n",
    "    axis_num = [da.get_axis_num(d) for d in dim]\n",
    "\n",
    "    N = [da.shape[n] for n in axis_num]\n",
    "\n",
    "    # verify even spacing of input coordinates\n",
    "    delta_x = []\n",
    "    for d in dim:\n",
    "        coord = da[d]\n",
    "        diff = np.diff(coord)\n",
    "        if pd.core.common.is_timedelta64_dtype(diff):\n",
    "            # convert to seconds so we get hertz\n",
    "            diff = diff.astype('timedelta64[s]').astype('f8')\n",
    "        delta = diff[0]\n",
    "        if not np.allclose(diff, diff[0]):\n",
    "            raise ValueError(\"Can't take Fourier transform because\"\n",
    "                             \"coodinate %s is not evenly spaced\" % d)\n",
    "        delta_x.append(delta)\n",
    "    # calculate frequencies from coordinates\n",
    "    k = [ np.fft.fftfreq(Nx, dx) for (Nx, dx) in zip(N, delta_x)]\n",
    "\n",
    "    if remove_mean:\n",
    "        da = da - da.mean(dim=dim)\n",
    "\n",
    "    # the hard work\n",
    "    #f = np.fft.fftn(da.values, axes=axis_num)\n",
    "    # need special path for dask\n",
    "    # is this the best way to check for dask?\n",
    "    data = da.data\n",
    "    if hasattr(data, 'dask'):\n",
    "        assert len(axis_num)==1\n",
    "        f = dsar.fft.fft(data, axis=axis_num[0])\n",
    "    else:\n",
    "        f = np.fft.fftn(data, axes=axis_num)\n",
    "\n",
    "    if shift:\n",
    "        f = np.fft.fftshift(f, axes=axis_num)\n",
    "        k = [np.fft.fftshift(l) for l in k]\n",
    "\n",
    "    # set up new coordinates for dataarray\n",
    "    prefix = 'freq_'\n",
    "    k_names = [prefix + d for d in dim]\n",
    "    k_coords = {key: val for (key,val) in zip(k_names, k)}\n",
    "\n",
    "    newdims = list(da.dims)\n",
    "    for anum, d in zip(axis_num, dim):\n",
    "        newdims[anum] = prefix + d\n",
    "\n",
    "    newcoords = {}\n",
    "    for d in newdims:\n",
    "        if d in da.coords:\n",
    "            newcoords[d] = da.coords[d]\n",
    "        else:\n",
    "            newcoords[d] = k_coords[d]\n",
    "\n",
    "    dk = [l[1] - l[0] for l in k]\n",
    "    for this_dk, d in zip(dk, dim):\n",
    "        newcoords[prefix + d + '_spacing'] = this_dk\n",
    "\n",
    "    return xr.DataArray(f, dims=newdims, coords=newcoords)"
   ]
  },
  {
   "cell_type": "code",
   "execution_count": 109,
   "metadata": {},
   "outputs": [],
   "source": [
    "def power_spectrum(da, dim=None, density=True):\n",
    "    \"\"\"\n",
    "    Perform discrete Fourier transform of xarray data-array `da` along the\n",
    "    specified dimensions.\n",
    "\n",
    "    Parameters\n",
    "    ----------\n",
    "    da : `xarray.DataArray`\n",
    "        The data to be transformed\n",
    "    dim : list (optional)\n",
    "        The dimensions along which to take the transformation. If `None`, all\n",
    "        dimensions will be transformed.\n",
    "    density : list (optional)\n",
    "        If true, it will normalize the spectrum to PSD\n",
    "        \n",
    "    \"\"\"\n",
    "    if dim is None:\n",
    "        dim = da.dims\n",
    "\n",
    "    # the axes along which to take ffts\n",
    "    axis_num = [da.get_axis_num(d) for d in dim]\n",
    "\n",
    "    N = [da.shape[n] for n in axis_num]\n",
    "    \n",
    "    daft = dft(da)\n",
    "    ps = np.real(daft*np.conj(daft))\n",
    "    \n",
    "    coord = list(daft.coords)\n",
    "    if density:\n",
    "        ps /= (np.asarray(N).prod())**2\n",
    "        for i in range(int(len(dim))):\n",
    "            ps /= daft[coord[-i-1]].values\n",
    "\n",
    "\n",
    "    if density:\n",
    "        delta_x = []\n",
    "        for d in dim:\n",
    "            coord = da[d]\n",
    "            diff = np.diff(coord)\n",
    "            if pd.core.common.is_timedelta64_dtype(diff):\n",
    "                # convert to seconds so we get hertz\n",
    "                diff = diff.astype('timedelta64[s]').astype('f8')\n",
    "            delta = diff[0]\n",
    "            delta_x.append(delta)\n",
    "        print(delta_x)\n",
    "        np.testing.assert_almost_equal(ps.sum() \n",
    "                                       / (np.asarray(delta_x).prod() \n",
    "                                          * (da.values**2).sum()\n",
    "                                         ), 1., decimal=5\n",
    "                                      )\n",
    "\n",
    "    return xr.DataArray(ps, coords=daft.coords, dims=daft.dims)"
   ]
  },
  {
   "cell_type": "code",
   "execution_count": 110,
   "metadata": {},
   "outputs": [
    {
     "name": "stderr",
     "output_type": "stream",
     "text": [
      "/Users/uchidatakaya/anaconda/envs/xrft/lib/python3.6/site-packages/ipykernel_launcher.py:1: DeprecationWarning: pandas.core.common.is_timedelta64_dtype is deprecated. import from the public API: pandas.api.types.is_timedelta64_dtype instead\n",
      "  \"\"\"Entry point for launching an IPython kernel.\n"
     ]
    },
    {
     "data": {
      "text/plain": [
       "<xarray.DataArray (freq_x: 512, freq_y: 512)>\n",
       "array([[ 2.523133+0.j      , -2.532964+0.014913j,  0.357434+2.517676j, ...,\n",
       "        -0.169390+2.547248j,  0.357434-2.517676j, -2.532964-0.014913j],\n",
       "       [-1.204924+2.228068j,  0.495682-2.494183j,  1.662945-1.937055j, ...,\n",
       "        -1.356439+2.174617j,  2.393193+0.888929j, -2.443391-0.704621j],\n",
       "       [ 0.577934-2.476377j,  2.491842+0.555239j, -1.732352+1.888927j, ...,\n",
       "         2.571527-0.090924j, -2.075890-1.503253j, -1.253123+2.224241j],\n",
       "       ..., \n",
       "       [ 0.155121-2.548157j,  2.434426+0.801533j,  2.178533-1.369311j, ...,\n",
       "         2.264571+1.243093j, -0.774544+2.453793j, -1.641792+1.968097j],\n",
       "       [ 0.577934+2.476377j, -1.253123-2.224241j, -2.075890+1.503253j, ...,\n",
       "        -1.743857+1.892084j, -1.732352-1.888927j,  2.491842-0.555239j],\n",
       "       [-1.204924-2.228068j, -2.443391+0.704621j,  2.393193-0.888929j, ...,\n",
       "         1.338718-2.185571j,  1.662945+1.937055j,  0.495682+2.494183j]])\n",
       "Coordinates:\n",
       "  * freq_x          (freq_x) float64 -0.5 -0.498 -0.4961 -0.4941 -0.4922 ...\n",
       "  * freq_y          (freq_y) float64 -0.5 -0.498 -0.4961 -0.4941 -0.4922 ...\n",
       "    freq_x_spacing  float64 0.001953\n",
       "    freq_y_spacing  float64 0.001953"
      ]
     },
     "execution_count": 110,
     "metadata": {},
     "output_type": "execute_result"
    }
   ],
   "source": [
    "f = dft(theta, remove_mean=True)\n",
    "f"
   ]
  },
  {
   "cell_type": "code",
   "execution_count": 111,
   "metadata": {},
   "outputs": [
    {
     "name": "stderr",
     "output_type": "stream",
     "text": [
      "/Users/uchidatakaya/anaconda/envs/xrft/lib/python3.6/site-packages/ipykernel_launcher.py:25: DeprecationWarning: pandas.core.common.is_timedelta64_dtype is deprecated. import from the public API: pandas.api.types.is_timedelta64_dtype instead\n"
     ]
    },
    {
     "name": "stdout",
     "output_type": "stream",
     "text": [
      "[1, 1]\n"
     ]
    },
    {
     "name": "stderr",
     "output_type": "stream",
     "text": [
      "/Users/uchidatakaya/anaconda/envs/xrft/lib/python3.6/site-packages/ipykernel_launcher.py:1: DeprecationWarning: pandas.core.common.is_timedelta64_dtype is deprecated. import from the public API: pandas.api.types.is_timedelta64_dtype instead\n",
      "  \"\"\"Entry point for launching an IPython kernel.\n"
     ]
    }
   ],
   "source": [
    "psd = power_spectrum(theta)"
   ]
  },
  {
   "cell_type": "code",
   "execution_count": 112,
   "metadata": {},
   "outputs": [
    {
     "data": {
      "text/plain": [
       "<xarray.DataArray (freq_x: 512, freq_y: 512)>\n",
       "array([[  2.428512e-05,   2.447559e-05,   2.466755e-05, ...,   2.486101e-05,\n",
       "          2.466755e-05,   2.447559e-05],\n",
       "       [  2.447559e-05,   2.466831e-05,   2.486254e-05, ...,   2.505831e-05,\n",
       "          2.486254e-05,   2.466831e-05],\n",
       "       [  2.466755e-05,   2.486254e-05,   2.505908e-05, ...,   2.525718e-05,\n",
       "          2.505908e-05,   2.486254e-05],\n",
       "       ..., \n",
       "       [  2.486101e-05,   2.505831e-05,   2.525718e-05, ...,   2.545763e-05,\n",
       "          2.525718e-05,   2.505831e-05],\n",
       "       [  2.466755e-05,   2.486254e-05,   2.505908e-05, ...,   2.525718e-05,\n",
       "          2.505908e-05,   2.486254e-05],\n",
       "       [  2.447559e-05,   2.466831e-05,   2.486254e-05, ...,   2.505831e-05,\n",
       "          2.486254e-05,   2.466831e-05]])\n",
       "Coordinates:\n",
       "  * freq_x          (freq_x) float64 -0.5 -0.498 -0.4961 -0.4941 -0.4922 ...\n",
       "  * freq_y          (freq_y) float64 -0.5 -0.498 -0.4961 -0.4941 -0.4922 ...\n",
       "    freq_x_spacing  float64 0.001953\n",
       "    freq_y_spacing  float64 0.001953"
      ]
     },
     "execution_count": 112,
     "metadata": {},
     "output_type": "execute_result"
    }
   ],
   "source": [
    "psd"
   ]
  },
  {
   "cell_type": "code",
   "execution_count": 119,
   "metadata": {},
   "outputs": [
    {
     "name": "stdout",
     "output_type": "stream",
     "text": [
      "freq_x\n"
     ]
    },
    {
     "data": {
      "text/plain": [
       "<xarray.DataArray 'freq_x' (freq_x: 512)>\n",
       "array([-0.5     , -0.498047, -0.496094, ...,  0.494141,  0.496094,  0.498047])\n",
       "Coordinates:\n",
       "  * freq_x          (freq_x) float64 -0.5 -0.498 -0.4961 -0.4941 -0.4922 ...\n",
       "    freq_x_spacing  float64 0.001953\n",
       "    freq_y_spacing  float64 0.001953"
      ]
     },
     "execution_count": 119,
     "metadata": {},
     "output_type": "execute_result"
    }
   ],
   "source": [
    "print(psd.dims[0])\n",
    "k = psd[psd.dims[0]]\n",
    "k"
   ]
  },
  {
   "cell_type": "code",
   "execution_count": null,
   "metadata": {
    "collapsed": true
   },
   "outputs": [],
   "source": []
  }
 ],
 "metadata": {
  "kernelspec": {
   "display_name": "Python 3 (xrft)",
   "language": "python",
   "name": "xrft"
  },
  "language_info": {
   "codemirror_mode": {
    "name": "ipython",
    "version": 3
   },
   "file_extension": ".py",
   "mimetype": "text/x-python",
   "name": "python",
   "nbconvert_exporter": "python",
   "pygments_lexer": "ipython3",
   "version": "3.6.1"
  }
 },
 "nbformat": 4,
 "nbformat_minor": 2
}
